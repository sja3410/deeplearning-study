{
 "cells": [
  {
   "cell_type": "markdown",
   "metadata": {},
   "source": [
    "로지스틱 회귀 = 단일층 신경망\n",
    "\n",
    "#일반적인 신경망의 모습\n",
    "입력층 : 가장 왼쪽\n",
    "은닉층 : 가운데(+활성화 함수)\n",
    "출력층 : 가장 오른쪽(+활성화 함수)\n",
    "\n",
    "단일 신경망이란?\n",
    "은닉층이 없고, 입력층 출력층만으로 이루어져있는 신경망 로지스틱 회귀가 이와 같다.\n",
    "\n",
    "\n",
    "# 경사하강법의 종류\n",
    "\n",
    "확률적 경사 하강법 : 샘플 데이터 1개에 대한 그레이디언트를 매번 구해주었음\n",
    "배치 경사 하강법 : 전체 훈련 세트를 사용하여 한 번에 그레디언트를 계산 하는 방식\n",
    "미니 배치 경사 하강법 : 배치의 크기를 작게하여 각각 한 번에 그레디언트를 계산 하는 방식\n",
    "\n",
    "확률적 경사 하강법은 랜덤으로 여러 데이터를 뽑아서 하므로, 계산 비용은 적은 대신 최적값에 수렴하기 불안정\n",
    "배치 경사 하강법은 세트를 한 번에 처리하므로, 계산 비용은 많은 대신 최적값에 수렴하기 안정\n",
    "-->  그 중간인 미니 배치 경사 하강법!\n",
    "\n",
    "경사하강법을 이용할 시에 한 에포크당 데이터 샘플의 순서를 섞어 가중치를 구한다. \n",
    "\n",
    "<샘플의 순서를 섞는 가장 좋은방법>\n",
    "np.random.permutation()함수 이용 : 넘파이에서 제공하는 함수로 배열의 인덱스를 섞은 후 인덱스 순서대로 나열한다.\n",
    "\n",
    "\n",
    "# 단일층 신경망 구현 \n"
   ]
  },
  {
   "cell_type": "code",
   "execution_count": 1,
   "metadata": {},
   "outputs": [
    {
     "name": "stderr",
     "output_type": "stream",
     "text": [
      "c:\\users\\dkstj\\appdata\\local\\programs\\python\\python36\\lib\\site-packages\\ipykernel_launcher.py:14: RuntimeWarning: overflow encountered in exp\n",
      "  \n"
     ]
    },
    {
     "data": {
      "text/plain": [
       "0.9210526315789473"
      ]
     },
     "execution_count": 1,
     "metadata": {},
     "output_type": "execute_result"
    }
   ],
   "source": [
    "class SingleLayer:\n",
    "    def __init__(self):\n",
    "        self.w = None\n",
    "        self.b = None\n",
    "        self.losses=[] #손실함수의 결과값 저장할 배열\n",
    "    def forpass(self,x):\n",
    "        z = np.sum(x * self.w)+self.b #선형 함수\n",
    "        return z\n",
    "    def backprop(self, x, err):\n",
    "        w_grad = x * err\n",
    "        b_grad = 1 * err \n",
    "        return w_grad, b_grad #그레디언트 계산\n",
    "    def activation(self, z):\n",
    "        a = 1/ (1+np.exp(-z))\n",
    "        return a #시그모이드 계산\n",
    "    def fit(self, x, y, epochs = 100):\n",
    "        self.w = np.ones(x.shape[1]) #가중치는 1로 초기화\n",
    "        self.b = 0 #절편은 0으로 초기화\n",
    "        for i in range(epochs): #에포크 만큼 돌린다.\n",
    "            loss = 0\n",
    "            indexes = np.random.permutation(np.arange(len(x))) #배열 전체의 인덱스를 섞어줌\n",
    "            for i in indexes:\n",
    "                z = self.forpass(x[i]) # 정방향 계산\n",
    "                a = self.activation(z) # 시그모이드 계산\n",
    "                err = -(y[i]-a) #오차값 \n",
    "                w_grad, b_grad = self.backprop(x[i], err) # 역방향 계산 (그레디언트 계산)\n",
    "                self.w -= w_grad # 가중치 절편 업데이트\n",
    "                self.b -= b_grad\n",
    "                a = np.clip(a, 1e-10, 1-1e-10) #손실 값이 무한대가 되지 않도록 조정해주는 clip사용\n",
    "                \n",
    "                loss += -(y[i]*np.log(a)+(1-y[i])*np.log(1-a)) #평균 손실을 계산하여 저장(누적)\n",
    "            self.losses.append(loss/len(y))\n",
    "    def predict(self, x):\n",
    "        z = [self.forpass(x_i) for x_i in x] # 정방향 계산\n",
    "        return np.array(z)>0 #임계함수 대용\n",
    "    \n",
    "    def score(self, x, y):\n",
    "        return np.mean(self.predict(x) ==y) #정확도 계산 \n",
    "    \n",
    "from sklearn.model_selection import train_test_split#train_test_split함수를 사용하겠다. \n",
    "import numpy as np\n",
    "from sklearn.datasets import load_breast_cancer #사이킷런에서 제공하는 datasets의 모듈에서 유방암 데이터를 불러온다. \n",
    "cancer = load_breast_cancer() #데이터를 불러온다\n",
    "np.unique(cancer.target, return_counts = True)\n",
    "x = cancer.data #x에는 데이터\n",
    "y = cancer.target #y에는 타겟데이터\n",
    "x_train, x_test, y_train, y_test = train_test_split(x,y,stratify=y, test_size=0.2, random_state=42)\n",
    "\n",
    "# 단일층 신경망 훈련하기 \n",
    "layer= SingleLayer()\n",
    "layer.fit(x_train, y_train)\n",
    "print(layer.score(x_test, y_test))\n",
    "\n",
    "                \n",
    "                \n",
    "                \n",
    "                \n",
    "    "
   ]
  },
  {
   "cell_type": "code",
   "execution_count": null,
   "metadata": {},
   "outputs": [],
   "source": []
  },
  {
   "cell_type": "code",
   "execution_count": null,
   "metadata": {},
   "outputs": [],
   "source": []
  },
  {
   "cell_type": "code",
   "execution_count": null,
   "metadata": {},
   "outputs": [],
   "source": []
  },
  {
   "cell_type": "code",
   "execution_count": null,
   "metadata": {},
   "outputs": [],
   "source": []
  },
  {
   "cell_type": "code",
   "execution_count": null,
   "metadata": {},
   "outputs": [],
   "source": []
  },
  {
   "cell_type": "code",
   "execution_count": null,
   "metadata": {},
   "outputs": [],
   "source": []
  },
  {
   "cell_type": "code",
   "execution_count": null,
   "metadata": {},
   "outputs": [],
   "source": []
  },
  {
   "cell_type": "code",
   "execution_count": null,
   "metadata": {},
   "outputs": [],
   "source": []
  }
 ],
 "metadata": {
  "kernelspec": {
   "display_name": "Python 3",
   "language": "python",
   "name": "python3"
  },
  "language_info": {
   "codemirror_mode": {
    "name": "ipython",
    "version": 3
   },
   "file_extension": ".py",
   "mimetype": "text/x-python",
   "name": "python",
   "nbconvert_exporter": "python",
   "pygments_lexer": "ipython3",
   "version": "3.6.7"
  }
 },
 "nbformat": 4,
 "nbformat_minor": 4
}
