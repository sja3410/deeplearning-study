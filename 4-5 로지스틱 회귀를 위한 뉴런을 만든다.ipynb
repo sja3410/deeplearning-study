{
 "cells": [
  {
   "cell_type": "markdown",
   "metadata": {},
   "source": [
    "#모델의 성능 평가를 위한 훈련 세트와 테스트 세트\n",
    "\n",
    "일반화 성능 - 훈련된 모델의 실전 성능\n",
    "과도하게 낙관적으로 일반화 성능을 추정한다 : 모델을 이미 학습시킨 훈련 데이터 세트로 모델의 성능을 평가한다. \n",
    "    --> 긍정적인 결과가 나올 수 밖에 없음\n",
    "훈련 데이터 세트를 두 덩이로 나누어 하나는 훈련에 (훈련 세트), 하나는 테스트에 (테스트 세트)나누어 사용한다. \n",
    "\n",
    "<훈련 데이터 세트를 훈련 세트와 테스트 세트로 나누는 규칙>\n",
    "1. 훈련 데이터 세트를 나눌 때는 테스트 세트보다 훈련 세트가 더 많아야 한다.\n",
    "2. 훈련 데이터 세트를 나누기 전에 양성, 음성 클래스가 훈련 세트나 테스트 세트의 어느 한쪽에 몰리지 않도록 섞어야한다. \n",
    "\n",
    "\n",
    "#훈련 세트와 테스트 세트로 나누기\n",
    "\n",
    "train_test_split()함수 --> 훈련 세트 75%, 테스트 세트 25%의 비율로 나누어준다. "
   ]
  },
  {
   "cell_type": "code",
   "execution_count": 6,
   "metadata": {},
   "outputs": [
    {
     "name": "stdout",
     "output_type": "stream",
     "text": [
      "(455, 30) (114, 30)\n"
     ]
    },
    {
     "data": {
      "text/plain": [
       "(array([0, 1]), array([170, 285], dtype=int64))"
      ]
     },
     "execution_count": 6,
     "metadata": {},
     "output_type": "execute_result"
    }
   ],
   "source": [
    "from sklearn.model_selection import train_test_split#train_test_split함수를 사용하겠다. \n",
    "import numpy as np\n",
    "from sklearn.datasets import load_breast_cancer #사이킷런에서 제공하는 datasets의 모듈에서 유방암 데이터를 불러온다. \n",
    "cancer = load_breast_cancer() #데이터를 불러온다\n",
    "np.unique(cancer.target, return_counts = True)\n",
    "x = cancer.data #x에는 데이터\n",
    "y = cancer.target #y에는 타겟데이터\n",
    "\n",
    "x_train, x_test, y_train, y_test = train_test_split(x,y,stratify=y, test_size=0.2, random_state=42)\n",
    "# stratify = y : 이 함수는 기본적으로 데이터를 나누기 전에 섞지만 일부 클래스 비율이 불균형한 경우에는 stratify를 y로 지정한다.\n",
    "#test_size = 0.2 : 원래는 75%, 25%의 비율이지만, 비율을 조정하기 위해서 사용한다. 즉 20%의 테스트 세트로 나누기 위해서는 0.2라고 지정해주면 된다. \n",
    "#random_state = 42 : 무작위로 데이터 세트를 섞고, 나눈다. 섞은 다음 나눈 결과가 항상 일정하도록 매개변수에 난수 값을 지정한다. \n",
    "\n",
    "print(x_train.shape, x_test.shape)\n",
    "#지정해준 비율과 같이 4:1로 잘 나누어졌다는 것을 출력물로 보여진다.\n",
    "np.unique(y_train, return_counts=True)\n",
    "#y의 훈련세트를 본결과 양성 클래스와 음성클래스의 비율이 그대로 유지한다. "
   ]
  },
  {
   "cell_type": "markdown",
   "metadata": {},
   "source": [
    "#로지스틱 회귀 구현하기\n",
    "\n",
    "<구현사항>\n",
    "1. 정방향 계산 : 정방향으로 데이터가 흘러가는 과정\n",
    "2. 역방향 계산 : 가중치를 업데이트하기 위해 역방향으로 데이터가 흘러가는 과정"
   ]
  },
  {
   "cell_type": "code",
   "execution_count": 13,
   "metadata": {
    "scrolled": true
   },
   "outputs": [
    {
     "name": "stderr",
     "output_type": "stream",
     "text": [
      "c:\\users\\dkstj\\appdata\\local\\programs\\python\\python36\\lib\\site-packages\\ipykernel_launcher.py:15: RuntimeWarning: overflow encountered in exp\n",
      "  from ipykernel import kernelapp as app\n"
     ]
    },
    {
     "data": {
      "text/plain": [
       "0.8245614035087719"
      ]
     },
     "execution_count": 13,
     "metadata": {},
     "output_type": "execute_result"
    }
   ],
   "source": [
    "class LogisticNeuron:\n",
    "    def __init__(self):\n",
    "        self.w = None\n",
    "        self.b = None #가중치와 절편을 초기화 시킨다. \n",
    "    def forpass(self,x):\n",
    "        z = np.sum(x*self.w)+ self.b \n",
    "        return z\n",
    "    def backprop(self, x, err): #그래디언트를 계산한다. \n",
    "        w_grad = x * err\n",
    "        b_grad = 1 * err\n",
    "        return w_grad, b_grad\n",
    "    #훈련하는 메서드 구현하기\n",
    "\n",
    "    def activation(self, z):\n",
    "        a = 1/(1+np.exp(-z)) #시그모이드 계산 이때, exp는 넘파이에서의 자연상수의 지수 함수를 계산하는 함수이다. \n",
    "        return a\n",
    "    def fit(self, x, y, epochs = 100):#100번 반복\n",
    "        self.w = np.ones(x.shape[1]) # 가중치 초기화 1로\n",
    "        self.b = 0 \n",
    "        for i in range(epochs):\n",
    "            for x_i, y_i in zip(x,y):\n",
    "                z = self.forpass(x_i) #정방향 계산\n",
    "                a = self.activation(z) #활성화 함수는 activation이라는 함수로 진행한다.\n",
    "                err = -(y_i -a) #오차 계산\n",
    "                w_grad, b_grad = self.backprop(x_i, err) #역방향 계산\n",
    "                self.w -= w_grad\n",
    "                self.b -= b_grad # 업데이트 \n",
    "    def predict(self, x):\n",
    "        z = [self.forpass(x_i) for x_i in x] #선형 함수 적용\n",
    "        a = self.activation(np.array(z)) # 활성화 함수 적용\n",
    "        return a>0.5 #임계함수 적용\n",
    "    \n",
    "# 모델 훈련하기 \n",
    "from sklearn.model_selection import train_test_split#train_test_split함수를 사용하겠다. \n",
    "import numpy as np\n",
    "from sklearn.datasets import load_breast_cancer #사이킷런에서 제공하는 datasets의 모듈에서 유방암 데이터를 불러온다. \n",
    "cancer = load_breast_cancer() #데이터를 불러온다\n",
    "np.unique(cancer.target, return_counts = True)\n",
    "x = cancer.data #x에는 데이터\n",
    "y = cancer.target #y에는 타겟데이터\n",
    "x_train, x_test, y_train, y_test = train_test_split(x,y,stratify=y, test_size=0.2, random_state=42)\n",
    "\n",
    "neuron = LogisticNeuron()\n",
    "neuron.fit(x_train, y_train) #모델 훈련하기 \n",
    "\n",
    "np.mean(neuron.predict(x_test) == y_test) #예측한 0, 1 등의 결과값들의 예측값을 평균내어 정확도를 측정\n",
    "    "
   ]
  },
  {
   "cell_type": "markdown",
   "metadata": {},
   "source": [
    "\n",
    "82%의 정확도를 보인다. \n"
   ]
  },
  {
   "cell_type": "code",
   "execution_count": null,
   "metadata": {},
   "outputs": [],
   "source": []
  },
  {
   "cell_type": "code",
   "execution_count": null,
   "metadata": {},
   "outputs": [],
   "source": []
  },
  {
   "cell_type": "code",
   "execution_count": null,
   "metadata": {},
   "outputs": [],
   "source": []
  },
  {
   "cell_type": "code",
   "execution_count": null,
   "metadata": {},
   "outputs": [],
   "source": []
  },
  {
   "cell_type": "code",
   "execution_count": null,
   "metadata": {},
   "outputs": [],
   "source": []
  }
 ],
 "metadata": {
  "kernelspec": {
   "display_name": "Python 3",
   "language": "python",
   "name": "python3"
  },
  "language_info": {
   "codemirror_mode": {
    "name": "ipython",
    "version": 3
   },
   "file_extension": ".py",
   "mimetype": "text/x-python",
   "name": "python",
   "nbconvert_exporter": "python",
   "pygments_lexer": "ipython3",
   "version": "3.6.7"
  }
 },
 "nbformat": 4,
 "nbformat_minor": 4
}
